{
  "cells": [
    {
      "cell_type": "markdown",
      "metadata": {
        "id": "view-in-github",
        "colab_type": "text"
      },
      "source": [
        "<a href=\"https://colab.research.google.com/github/Tharindu021/Context_Based_Spell_Checker/blob/main/SpellChecker1_1.ipynb\" target=\"_parent\"><img src=\"https://colab.research.google.com/assets/colab-badge.svg\" alt=\"Open In Colab\"/></a>"
      ]
    },
    {
      "cell_type": "markdown",
      "metadata": {
        "id": "lKNAxKvTo1kR"
      },
      "source": [
        "\n"
      ]
    },
    {
      "cell_type": "code",
      "execution_count": null,
      "metadata": {
        "id": "9epBFROxo0KA"
      },
      "outputs": [],
      "source": [
        "import nltk\n",
        "from nltk.corpus import wordnet\n",
        "from nltk.metrics.distance import edit_distance\n",
        "import pandas as pd\n",
        "import numpy as np\n",
        "import gensim\n",
        "from gensim.models import Word2Vec\n",
        "import string\n",
        "from nltk.corpus import stopwords\n",
        "from transformers import BertTokenizer, BertModel , AutoTokenizer, AutoModel, AutoModelForMaskedLM\n",
        "import torch\n",
        "import csv\n",
        "import random"
      ]
    },
    {
      "cell_type": "markdown",
      "metadata": {
        "id": "JiBkXpEuzelj"
      },
      "source": [
        "**connect to google drice**"
      ]
    },
    {
      "cell_type": "code",
      "execution_count": null,
      "metadata": {
        "colab": {
          "base_uri": "https://localhost:8080/"
        },
        "id": "s0MoTiUXzeue",
        "outputId": "e41be347-0419-48e3-a39a-f44ea3b6aecf"
      },
      "outputs": [
        {
          "output_type": "stream",
          "name": "stdout",
          "text": [
            "Mounted at /content/drive\n"
          ]
        }
      ],
      "source": [
        "from google.colab import drive\n",
        "drive.mount('/content/drive')"
      ]
    },
    {
      "cell_type": "markdown",
      "metadata": {
        "id": "D1QIOaROl5O0"
      },
      "source": [
        "**get the pretrained model path, load the models and get the tokenizer.**"
      ]
    },
    {
      "cell_type": "code",
      "execution_count": null,
      "metadata": {
        "id": "WRVYt-YXXqqG",
        "colab": {
          "base_uri": "https://localhost:8080/",
          "height": 306,
          "referenced_widgets": [
            "3899a5c278fe492da3b02690b3060600",
            "cf345477cf7b4c75b556d7ce10289edc",
            "b42d998e1034447b9b0811edf7bd006d",
            "8d766be0919d41cd97946bcad74a2fb4",
            "794030168fac47029dfbea61b3499b7f",
            "fd868b49fef541d4a7043171733451bf",
            "d42d74abc14947b3b2d3320abc48ec46",
            "cf126eef6e374c3584bb09352d139cce",
            "33fad0b893b9498ba50e5fd0830e84d8",
            "aadfd1c3fcf1442384c88a98edde3970",
            "6114986b5ff045d09e1daa1f51658558",
            "55ba84710af249d69e830bc7ad873521",
            "295691a315fa4e6992af500104441b29",
            "35157c2cf40947fe9bb6933044c57133",
            "7d05d6cdc2bc458e92f8f6cb1010f858",
            "61c137350ada49f7810c1434f9f790c4",
            "a832f8b49e9c447789626f75e60a7714",
            "46965c5e9a83448dbf075d64cc23d107",
            "75059d4d36314adc92cd550e30355428",
            "54ee2691a1664c42ad818952c95d454e",
            "1b6537ca1a1349b8b0680ea4dc7213a0",
            "05f2da7d1ce14ba393f35d569ad72ec7",
            "256c947f92964218a0c181c325fc3b5c",
            "712bc9fd005e430ebe3731dd715db785",
            "f5590b04c966441f8ef544c019daf075",
            "d316ca90915244c7aebfb5aefeba3999",
            "703b94d839374cc0857033f0a07be95f",
            "f57abac0d14247f78a9735b666e0ca07",
            "1d366779c9234d11bdd38aa317434bb9",
            "1b22598acd1b4638a418dbc892e910dd",
            "028b46763127484284ff19b44370aca0",
            "d7f5402d7d0f4845ae9b28b93f223a8e",
            "08bdb006837b45c9831c07803dae5d3e",
            "28ca08388ca9459c850628db2c329089",
            "799032963fbd41dc8deea20ede1948b1",
            "37eab13be43b4845905e442ed581c32b",
            "85ba14b328d74065b472d6a8d736cb56",
            "df8c24ed83674c619ffca6768805543c",
            "3b36ca5690394aaeaf47a9e62f2e52be",
            "75e7468800dd4c7099ba744661f2a709",
            "8ca2217fa63e493bab61faeab4368402",
            "5a89db8ad42b460d9349b1e8c8fa452d",
            "caa1e8c5c9894edba776e6086d263aa0",
            "cd96e77a4b2241de937ed809c07a996c",
            "84371c4f6343402697e22a6219787333",
            "6ee002820daf46d8a281486893ae8fc5",
            "b73c878db4c84641b34a5f18e6e873fb",
            "6a5d1adadf924784bb8701b474b4c600",
            "905c757f3d06451d9a1251d9cf1fa60e",
            "5e12425e95b24136acba44fcfbdfd667",
            "2a70e8d51b414e398d691bf160ee94d6",
            "31e003318d0249a98c6014fbdf18412c",
            "08764c06f96443b4bcfed9122642db4e",
            "cc11ddf034a84f958ae0cd2a2eece4b2",
            "dce31f62addb447190374ab16a9dde76"
          ]
        },
        "outputId": "35b91d06-c4ca-4b0f-abbb-f4c0fdd20789"
      },
      "outputs": [
        {
          "output_type": "stream",
          "name": "stderr",
          "text": [
            "/usr/local/lib/python3.10/dist-packages/huggingface_hub/utils/_auth.py:94: UserWarning: \n",
            "The secret `HF_TOKEN` does not exist in your Colab secrets.\n",
            "To authenticate with the Hugging Face Hub, create a token in your settings tab (https://huggingface.co/settings/tokens), set it as secret in your Google Colab and restart your session.\n",
            "You will be able to reuse this secret in all of your notebooks.\n",
            "Please note that authentication is recommended but still optional to access public models or datasets.\n",
            "  warnings.warn(\n"
          ]
        },
        {
          "output_type": "display_data",
          "data": {
            "text/plain": [
              "tokenizer_config.json:   0%|          | 0.00/48.0 [00:00<?, ?B/s]"
            ],
            "application/vnd.jupyter.widget-view+json": {
              "version_major": 2,
              "version_minor": 0,
              "model_id": "3899a5c278fe492da3b02690b3060600"
            }
          },
          "metadata": {}
        },
        {
          "output_type": "display_data",
          "data": {
            "text/plain": [
              "vocab.txt:   0%|          | 0.00/232k [00:00<?, ?B/s]"
            ],
            "application/vnd.jupyter.widget-view+json": {
              "version_major": 2,
              "version_minor": 0,
              "model_id": "55ba84710af249d69e830bc7ad873521"
            }
          },
          "metadata": {}
        },
        {
          "output_type": "display_data",
          "data": {
            "text/plain": [
              "tokenizer.json:   0%|          | 0.00/466k [00:00<?, ?B/s]"
            ],
            "application/vnd.jupyter.widget-view+json": {
              "version_major": 2,
              "version_minor": 0,
              "model_id": "256c947f92964218a0c181c325fc3b5c"
            }
          },
          "metadata": {}
        },
        {
          "output_type": "display_data",
          "data": {
            "text/plain": [
              "config.json:   0%|          | 0.00/570 [00:00<?, ?B/s]"
            ],
            "application/vnd.jupyter.widget-view+json": {
              "version_major": 2,
              "version_minor": 0,
              "model_id": "28ca08388ca9459c850628db2c329089"
            }
          },
          "metadata": {}
        },
        {
          "output_type": "display_data",
          "data": {
            "text/plain": [
              "model.safetensors:   0%|          | 0.00/440M [00:00<?, ?B/s]"
            ],
            "application/vnd.jupyter.widget-view+json": {
              "version_major": 2,
              "version_minor": 0,
              "model_id": "84371c4f6343402697e22a6219787333"
            }
          },
          "metadata": {}
        }
      ],
      "source": [
        "from gensim.models import KeyedVectors\n",
        "model_path = \"/content/drive/MyDrive/Dataset/Models/google_news.kv\"\n",
        "model = KeyedVectors.load(model_path)\n",
        "bert_tokenizer = BertTokenizer.from_pretrained('bert-base-uncased')\n",
        "bert_model = BertModel.from_pretrained('bert-base-uncased')"
      ]
    },
    {
      "cell_type": "markdown",
      "metadata": {
        "id": "jLjipscl39W4"
      },
      "source": [
        "**load the dictionary and the dataset containing misspelled words with their correct word mappings**"
      ]
    },
    {
      "cell_type": "code",
      "execution_count": null,
      "metadata": {
        "colab": {
          "base_uri": "https://localhost:8080/"
        },
        "id": "Cthg47kD39iq",
        "outputId": "6a018b5b-7045-41b4-e5e3-71d47645c581"
      },
      "outputs": [
        {
          "output_type": "stream",
          "name": "stderr",
          "text": [
            "<ipython-input-5-606d292397b4>:3: DtypeWarning: Columns (3,4,5,6,7,8,9,10,11,12,13,14,15,16,17,18,19) have mixed types. Specify dtype option on import or set low_memory=False.\n",
            "  df = pd.read_csv(path)\n"
          ]
        },
        {
          "output_type": "stream",
          "name": "stdout",
          "text": [
            "An error occurred: 'NoneType' object has no attribute 'strip'\n",
            "{'eyar': 'year', 'yera': 'year', 'eyasr': 'years', 'yeasr': 'years', 'yersa': 'years'}\n"
          ]
        }
      ],
      "source": [
        "path = \"/content/drive/MyDrive/Dataset/english Dictionary only words.csv\"\n",
        "\n",
        "df = pd.read_csv(path)\n",
        "dictionary = set(df['word'].str.lower())\n",
        "\n",
        "def load_dataset(dataset_path):\n",
        "    dataset = {}\n",
        "    try:\n",
        "        with open(dataset_path, mode='r', encoding='utf-8') as file:\n",
        "            reader = csv.DictReader(file)\n",
        "            if 'Incorrect Word' not in reader.fieldnames or 'Correct Word' not in reader.fieldnames:\n",
        "                raise ValueError(\"CSV file must have 'Incorrect Word' and 'Correct Word' columns.\")\n",
        "\n",
        "            for row in reader:\n",
        "                incorrect_word = row['Incorrect Word'].strip().lower()\n",
        "                correct_word = row['Correct Word'].strip()\n",
        "                dataset[incorrect_word] = correct_word\n",
        "    except FileNotFoundError:\n",
        "        print(f\"Error: File not found at {dataset_path}\")\n",
        "    except Exception as e:\n",
        "        print(f\"An error occurred: {e}\")\n",
        "    return dataset\n",
        "\n",
        "dataset_path = \"/content/drive/MyDrive/Dataset/research_dataset.csv\"\n",
        "dataset = load_dataset(dataset_path)\n",
        "print(dict(list(dataset.items())[-5:]))\n",
        "\n",
        "# def load_testing_dataset(testing_dataset_path):\n",
        "#     with open(testing_dataset_path, 'r') as file:\n",
        "#         reader = csv.DictReader(file)\n",
        "#         testing_dataset = [row for row in reader]\n",
        "#     return testing_dataset\n",
        "\n",
        "# testing_dataset_path = \"/content/drive/MyDrive/Dataset/mispelld sentence and correct sentences/dataset_with_misspelled_words.csv\"\n",
        "# testing_dataset = load_testing_dataset(testing_dataset_path)\n",
        "# print(len(testing_dataset))\n",
        "\n"
      ]
    },
    {
      "cell_type": "markdown",
      "metadata": {
        "id": "q54mUS6xpMp5"
      },
      "source": [
        "**get punkt to preprocess sentences**"
      ]
    },
    {
      "cell_type": "code",
      "execution_count": null,
      "metadata": {
        "colab": {
          "base_uri": "https://localhost:8080/"
        },
        "id": "2rPFjjf9pNBU",
        "outputId": "4f36a855-f60f-47a5-b20f-ad32682af928"
      },
      "outputs": [
        {
          "output_type": "stream",
          "name": "stderr",
          "text": [
            "[nltk_data] Downloading package punkt to /root/nltk_data...\n",
            "[nltk_data]   Unzipping tokenizers/punkt.zip.\n",
            "[nltk_data] Downloading package punkt_tab to /root/nltk_data...\n",
            "[nltk_data]   Unzipping tokenizers/punkt_tab.zip.\n"
          ]
        },
        {
          "output_type": "execute_result",
          "data": {
            "text/plain": [
              "True"
            ]
          },
          "metadata": {},
          "execution_count": 6
        }
      ],
      "source": [
        "nltk.download('punkt')\n",
        "nltk.download('punkt_tab')"
      ]
    },
    {
      "cell_type": "markdown",
      "metadata": {
        "id": "UG_BrnVn1-AG"
      },
      "source": [
        "**to get the similarity between two vectors**"
      ]
    },
    {
      "cell_type": "code",
      "execution_count": null,
      "metadata": {
        "id": "a008V7ic19CZ"
      },
      "outputs": [],
      "source": [
        "def compute_similarity(vector1, vector2):\n",
        "    return np.dot(vector1, vector2) / (np.linalg.norm(vector1) * np.linalg.norm(vector2))"
      ]
    },
    {
      "cell_type": "markdown",
      "source": [
        "**in this function i get the how much matchable my target word to the sentence**"
      ],
      "metadata": {
        "id": "uXvrANbDUZWz"
      }
    },
    {
      "cell_type": "code",
      "execution_count": null,
      "metadata": {
        "id": "L1dgjcwFfdjq"
      },
      "outputs": [],
      "source": [
        "def get_original_word_confidence(masked_sentence, original_word, tokenizer, model):\n",
        "    # get the bert numbers for the masked sentence words\n",
        "    inputs = tokenizer(masked_sentence, return_tensors=\"pt\")\n",
        "    with torch.no_grad():\n",
        "        outputs = model(**inputs)\n",
        "\n",
        "    # get the mask token index\n",
        "    mask_token_index = torch.where(inputs[\"input_ids\"] == tokenizer.mask_token_id)[1]\n",
        "    # get the mask token prediction tokens\n",
        "    mask_token_logits = outputs.logits[0, mask_token_index, :]\n",
        "\n",
        "    # Get the score for the original word at the mask position\n",
        "    original_token_id = tokenizer.convert_tokens_to_ids(original_word)\n",
        "    # check the original word contain in the mask_token_logits and get the probobility for it using softmax\n",
        "    original_token_score = torch.softmax(mask_token_logits, dim=1)[0, original_token_id].item()\n",
        "\n",
        "    return original_token_score"
      ]
    },
    {
      "cell_type": "markdown",
      "source": [
        "**in this function, I get the best suggested words for my masked word to replace it.**"
      ],
      "metadata": {
        "id": "J1cZZls6Uvt3"
      }
    },
    {
      "cell_type": "code",
      "execution_count": null,
      "metadata": {
        "id": "zdENeZn8gsMC"
      },
      "outputs": [],
      "source": [
        "def get_best_replacement(masked_sentence, tokenizer, model):\n",
        "    # initialize the exclude tokens most of the time model recomend thos puncutations so i removed them\n",
        "    exclude_tokens = [\".\", \",\", \";\", \":\", \"?\", \"!\"]\n",
        "    # get the corresponds number in bert\n",
        "    inputs = tokenizer(masked_sentence, return_tensors=\"pt\")\n",
        "\n",
        "    # turn of the gradient calculation and produce set of logits for each recomended word\n",
        "    with torch.no_grad():\n",
        "        outputs = model(**inputs)\n",
        "\n",
        "    # get the mask word index in input ids, [1] we are using 2d array so using 1 we can get the index [[1,2,3,103]]\n",
        "    mask_token_index = torch.where(inputs[\"input_ids\"] == tokenizer.mask_token_id)[1]\n",
        "\n",
        "    # and then get the relevant row using mask token index for predictions\n",
        "    mask_token_logits = outputs.logits[0, mask_token_index, :]\n",
        "\n",
        "    #convert logits to probabilities\n",
        "    probabilities = torch.softmax(mask_token_logits, dim=1)\n",
        "\n",
        "    #get the top 10 predictions\n",
        "    top_tokens = torch.topk(probabilities, k=10, dim=1)\n",
        "\n",
        "    # for token_id in top_tokens.indices[0]:\n",
        "    #    print(f\"Best replacements words :'{tokenizer.decode([token_id.item()])}'\")\n",
        "\n",
        "    #loop each top predictions with pair of id and score\n",
        "    for token_id, score in zip(top_tokens.indices[0], top_tokens.values[0]):\n",
        "      #get the word for token id\n",
        "      replacement = tokenizer.decode([token_id.item()]).strip()\n",
        "\n",
        "      #if we found replacement that not in exclude tokens and also it is valid word then we can return it\n",
        "      if replacement not in exclude_tokens and replacement.isalpha():\n",
        "          return replacement, score.item()\n",
        "\n",
        "    # if no valid words found then it return  first of the probability\n",
        "    top_token = top_tokens.indices[0, 0].item()\n",
        "    top_score = top_tokens.values[0, 0].item()\n",
        "    replacement = tokenizer.decode([top_token]).strip()\n",
        "    return replacement, top_score"
      ]
    },
    {
      "cell_type": "markdown",
      "metadata": {
        "id": "5aKYfhj_dCmR"
      },
      "source": [
        "I am using downloaded pretained model useto the checking the spell checking and also following function is to find most similar_word in given input words to the sentence, Firstly it tokenise the sentence and then check the words are in the model if not it return none and next get the sentence mean base on the word it store in the sentence_mean then it measure the cosine similarity between sentence and relevant word and it label to the word then its store in the simillarities variable then sort it in descending order return the most 5 similar word."
      ]
    },
    {
      "cell_type": "code",
      "execution_count": null,
      "metadata": {
        "id": "fsAiLILtdBQ9"
      },
      "outputs": [],
      "source": [
        "def find_most_similar_word(sentence, input_words, word2vec_model):\n",
        "    # tokenise the sentence words\n",
        "    sentence_words = [word for word in sentence if word in word2vec_model]\n",
        "    #if there is not words then return it\n",
        "    if not sentence_words:\n",
        "        return None\n",
        "\n",
        "    # get the whole sentence mean vector from getting each embeded word mean\n",
        "    sentence_mean = np.mean([word2vec_model[word] for word in sentence_words], axis=0)\n",
        "\n",
        "    # get the word2vec model have words\n",
        "    valid_words = [word for word in input_words if word in word2vec_model]\n",
        "\n",
        "    #if there is not words then return it\n",
        "    if not valid_words:\n",
        "        return None\n",
        "\n",
        "    # each words array words get as the label and compoute the similarity between sentence and each word and store it as label and similarity\n",
        "    similarities = [(label, compute_similarity(sentence_mean, word2vec_model[label])) for label in valid_words]\n",
        "\n",
        "    # get highest similarity as first and return similarity words\n",
        "    similarities.sort(key=lambda x: x[1], reverse=True)\n",
        "    most_similar_words = [label for label, _ in similarities[:5]]\n",
        "    return most_similar_words"
      ]
    },
    {
      "cell_type": "markdown",
      "metadata": {
        "id": "Kh9npSBaMnKV"
      },
      "source": [
        "get the simillar words using bert model"
      ]
    },
    {
      "cell_type": "code",
      "execution_count": null,
      "metadata": {
        "id": "Xh0gfv6IMnkd"
      },
      "outputs": [],
      "source": [
        "def find_most_similar_word_using_bert(sentence, input_words, bert_model):\n",
        "    tokenizer = BertTokenizer.from_pretrained(bert_model)\n",
        "    model = AutoModel.from_pretrained(bert_model)\n",
        "    #set model evalution mode\n",
        "    model.eval()\n",
        "\n",
        "    with torch.no_grad():\n",
        "        # tokenize the sentence and get as tensor\n",
        "        sentence_tokens = tokenizer(sentence, return_tensors='pt')\n",
        "        # get the sentene embedding as 1d vector\n",
        "        sentence_embedding = model(**sentence_tokens).last_hidden_state.mean(dim=1).squeeze()\n",
        "\n",
        "    most_similar_word = None\n",
        "    # initialise to negative infinty\n",
        "    highest_similarity = -float('inf')\n",
        "\n",
        "    for word in input_words:\n",
        "        if not isinstance(word, str):\n",
        "              word = str(word)\n",
        "\n",
        "        with torch.no_grad():\n",
        "            # tokenise word return as tensor\n",
        "            word_tokens = tokenizer(word, return_tensors='pt')\n",
        "            # get the word embedding as 1d vector\n",
        "            word_embedding = model(**word_tokens).last_hidden_state.mean(dim=1).squeeze()\n",
        "\n",
        "        # compute cosine similarity between sentence and word and convert tensors to numpy array\n",
        "        similarity = torch.cosine_similarity(sentence_embedding, word_embedding, dim=0).item()\n",
        "        #torch.nn.functional.cosine_similarity(sentence_embedding, word_embedding, dim=0)\n",
        "\n",
        "        # update the similar word\n",
        "        if similarity > highest_similarity:\n",
        "            highest_similarity = similarity\n",
        "            most_similar_word = word\n",
        "\n",
        "    return most_similar_word"
      ]
    },
    {
      "cell_type": "markdown",
      "metadata": {
        "id": "rXqmCLkueufL"
      },
      "source": [
        "check sentence exist real word errors,if there has real word errors then give the correct sentence"
      ]
    },
    {
      "cell_type": "code",
      "execution_count": null,
      "metadata": {
        "id": "DBkm2oZoeuSb"
      },
      "outputs": [],
      "source": [
        "def real_word_errors_check(sentence, bert_model_name=\"bert-base-uncased\"):\n",
        "    # load the pretained tokenizer and model\n",
        "    tokenizer = BertTokenizer.from_pretrained(bert_model_name)\n",
        "    model = AutoModelForMaskedLM.from_pretrained(bert_model_name)\n",
        "\n",
        "    # get the sentence word\n",
        "    words = sentence.split()\n",
        "    # initialize the dictionary for set the word confidence for sentence\n",
        "    word_confidences = {}\n",
        "\n",
        "    print(\"Checking for potential real-word errors...\\n\")\n",
        "\n",
        "    # get each of word in words array and calculate confidence using mask the word\n",
        "    for i, word in enumerate(words):\n",
        "\n",
        "        masked_sentence = sentence.replace(word, \"[MASK]\", 1)\n",
        "        confidence = get_original_word_confidence(masked_sentence, word, tokenizer, model)\n",
        "\n",
        "        # save confidence\n",
        "        word_confidences[word] = confidence\n",
        "\n",
        "    # display confidence for each word\n",
        "    print(\"Word Confidence Scores:\")\n",
        "    for word, confidence in word_confidences.items():\n",
        "        print(f\"{word}: {confidence}\")\n",
        "\n",
        "    # ge the minimum confidence score word as target_word\n",
        "    target_word = min(word_confidences, key=word_confidences.get)\n",
        "\n",
        "    # using this function we can get the best replacement for target word\n",
        "    replacement, _ = get_best_replacement(sentence.replace(target_word, \"[MASK]\", 1), tokenizer, model)\n",
        "\n",
        "    # check replacment word is same as the target word, if the two words are not the same, replace the target word with the replacement.\n",
        "    if replacement.lower() != target_word.lower():\n",
        "        corrected_sentence = sentence.replace(target_word, replacement, 1)\n",
        "        print(f\"Suggested replacement for '{target_word}': '{replacement}'\")\n",
        "    else:\n",
        "        corrected_sentence = sentence\n",
        "        print(\"No corrections needed.\")\n",
        "\n",
        "    print(\"\\Recomended Sentence:\", corrected_sentence)\n",
        "    return corrected_sentence"
      ]
    },
    {
      "cell_type": "markdown",
      "metadata": {
        "id": "iHgjXrUkpuGs"
      },
      "source": [
        "**In this function we use the edit distance algorithm to calculate the minimum distance between a correct word and a misspelled word.i updated the algorithm to check for character swaps, making it more efficient in calculating the distance.**"
      ]
    },
    {
      "cell_type": "code",
      "execution_count": null,
      "metadata": {
        "id": "rTVqyvbAac-W"
      },
      "outputs": [],
      "source": [
        "def edit_distance1(s1, s2):\n",
        "    m, n = len(s1), len(s2)\n",
        "    dp = [[0] * (n + 1) for _ in range(m + 1)]\n",
        "\n",
        "    # Initialize the first row and column\n",
        "    for i in range(m + 1):\n",
        "        dp[i][0] = i\n",
        "    for j in range(n + 1):\n",
        "        dp[0][j] = j\n",
        "\n",
        "    # Fill in the DP table\n",
        "    for i in range(1, m + 1):\n",
        "        for j in range(1, n + 1):\n",
        "            if s1[i - 1] == s2[j - 1]:\n",
        "                dp[i][j] = dp[i - 1][j - 1]\n",
        "            else:\n",
        "                dp[i][j] = min(dp[i - 1][j - 1] + 1,  # Substitution\n",
        "                               dp[i - 1][j] + 1,      # Deletion\n",
        "                               dp[i][j - 1] + 1)      # Insertion\n",
        "\n",
        "                # Check for transposition\n",
        "                if i > 1 and j > 1 and s1[i - 1] == s2[j - 2] and s1[i - 2] == s2[j - 1]:\n",
        "                    dp[i][j] = min(dp[i][j], dp[i - 2][j - 2] + 1)\n",
        "\n",
        "    return dp[m][n]\n"
      ]
    },
    {
      "cell_type": "markdown",
      "metadata": {
        "id": "D6FnYeiGrdoF"
      },
      "source": [
        "**In this function, we retrieve up to 30 similar words using the edit distance algorithm.**"
      ]
    },
    {
      "cell_type": "code",
      "execution_count": null,
      "metadata": {
        "id": "LXmyy12YzUM4"
      },
      "outputs": [],
      "source": [
        "def recomend_simillar_words(words):\n",
        "  # initialize the variables\n",
        "  simillar_words = []\n",
        "\n",
        "  # get the each word from the dictionary and then calculate the edit_distance value if the distance value is lower than 2 then it push to the similar_words array\n",
        "  for dict_words in dictionary:\n",
        "    distance = edit_distance1(str(dict_words), str(words))\n",
        "    if distance < 2:\n",
        "      simillar_words.append( (dict_words , distance) )\n",
        "  # sort the similar words using distance ascending order\n",
        "  simillar_words.sort(key=lambda x : x[1])\n",
        "  # return 30 tuples\n",
        "  return [ word[0] for word in simillar_words[:10]]"
      ]
    },
    {
      "cell_type": "markdown",
      "source": [
        "**This spell checker function retrieves similar words using the edit distance algorithm, processes them through additional functions to identify the most similar word, and finally calculates accuracy metrics**"
      ],
      "metadata": {
        "id": "J4atI58WrKJG"
      }
    },
    {
      "cell_type": "code",
      "source": [
        "def spell_checker(sentence, dictionary, dataset):\n",
        "\n",
        "    # initialize the variables\n",
        "    similar_correct = 0\n",
        "    similar_total = 0\n",
        "    recommended_correct = 0\n",
        "    recommended_total = 0\n",
        "    similar_words = []\n",
        "    correct_word = None\n",
        "\n",
        "    # remove punctuation marks\n",
        "    sentence = sentence.translate(str.maketrans('', '', string.punctuation))\n",
        "    # tokenize the input sentence\n",
        "    words = nltk.word_tokenize(sentence)\n",
        "\n",
        "    bert_model_name  = 'bert-base-uncased'\n",
        "\n",
        "    # get each tokenize word from words\n",
        "    for word in words:\n",
        "\n",
        "        if word.lower() not in dictionary:\n",
        "\n",
        "            # get the correct word from the dataset if there is not exist word then correct_word going to be none\n",
        "            correct_word = dataset.get(word.lower(), None)\n",
        "            print(f\"\\nCorect Word for '{word}' : {correct_word}\")\n",
        "\n",
        "            # get the similar words to the choosen words from edit distance algorithm\n",
        "            similar_words = recomend_simillar_words(word.lower())\n",
        "            print(f\"\\nFirst dictionary check for similar words to '{word}': {similar_words}\")\n",
        "\n",
        "            # count the similar words total and correct similar word\n",
        "            if similar_words:\n",
        "                similar_total += len(similar_words)\n",
        "                if correct_word in similar_words:\n",
        "                    similar_correct += 1\n",
        "\n",
        "            # if the length of similar words is 1, we can assume that the one similar word is the correct word\n",
        "            if(len(similar_words) == 1):\n",
        "                print(f\"Similar words for '{word}' are: {similar_words}\")\n",
        "            else :\n",
        "                # if similar_words contains more than one word, we first check these words using the Word2Vec model to get the most similar word among them.\n",
        "                recommended_words = find_most_similar_word(sentence, similar_words, model)\n",
        "                print(f\"Recommended words for '{word}' are: {recommended_words}\")\n",
        "\n",
        "                # count the recommend words total and recommnend correct word\n",
        "                if recommended_words:\n",
        "                    recommended_total += len(recommended_words)\n",
        "                    if correct_word in recommended_words:\n",
        "                        recommended_correct += 1\n",
        "\n",
        "                # secondly check the words using bert modal\n",
        "                recommended_word_from_bert = find_most_similar_word_using_bert(sentence, similar_words, bert_model_name)\n",
        "                print(f\"Recommended word using bert model '{word}': {recommended_word_from_bert}\")\n",
        "\n",
        "                # count the recommend words total and recommnend correct word\n",
        "                if recommended_word_from_bert:\n",
        "                    recommended_total += len(recommended_word_from_bert)\n",
        "                    if correct_word in recommended_word_from_bert:\n",
        "                        recommended_correct += 1\n",
        "\n",
        "\n",
        "    # check sentence exist real word errors and recomend a correct sentence using bert modal\n",
        "    real_word_errors_check(sentence,bert_model_name)"
      ],
      "metadata": {
        "id": "e_c9twL_rJ41"
      },
      "execution_count": null,
      "outputs": []
    },
    {
      "cell_type": "markdown",
      "source": [
        "**In that part of the code, we can input a sentence, and it checks whether the sentence contains any misspelled words. If there is any misspelled word, it recommends similar words to user**"
      ],
      "metadata": {
        "id": "9jyG56smtwmQ"
      }
    },
    {
      "cell_type": "code",
      "execution_count": null,
      "metadata": {
        "colab": {
          "base_uri": "https://localhost:8080/"
        },
        "id": "GPNYxc5_rd5g",
        "outputId": "12fb838a-41a3-4f5e-fd5a-553b039ab72f"
      },
      "outputs": [
        {
          "output_type": "stream",
          "name": "stdout",
          "text": [
            "Please enter the sentence you want or type 'exit' to quit: i eat appel\n",
            "\n",
            "Corect Word for 'appel' : apple\n",
            "\n",
            "First dictionary check for similar words to 'appel': ['apple', 'appeal', 'rappel']\n",
            "Recommended words for 'appel' are: ['apple', 'appeal', 'rappel']\n",
            "Recommended word using bert model 'appel': apple\n"
          ]
        },
        {
          "output_type": "stream",
          "name": "stderr",
          "text": [
            "Some weights of the model checkpoint at bert-base-uncased were not used when initializing BertForMaskedLM: ['bert.pooler.dense.bias', 'bert.pooler.dense.weight', 'cls.seq_relationship.bias', 'cls.seq_relationship.weight']\n",
            "- This IS expected if you are initializing BertForMaskedLM from the checkpoint of a model trained on another task or with another architecture (e.g. initializing a BertForSequenceClassification model from a BertForPreTraining model).\n",
            "- This IS NOT expected if you are initializing BertForMaskedLM from the checkpoint of a model that you expect to be exactly identical (initializing a BertForSequenceClassification model from a BertForSequenceClassification model).\n"
          ]
        },
        {
          "output_type": "stream",
          "name": "stdout",
          "text": [
            "Checking for potential real-word errors...\n",
            "\n",
            "Word Confidence Scores:\n",
            "i: 0.09052897989749908\n",
            "eat: 0.0025490790139883757\n",
            "appel: 4.195733982470529e-09\n",
            "Best replacements words :'.'\n",
            "Best replacements words :';'\n",
            "Best replacements words :'!'\n",
            "Best replacements words :'?'\n",
            "Best replacements words :'...'\n",
            "Best replacements words :','\n",
            "Best replacements words :'|'\n",
            "Best replacements words :'and'\n",
            "Best replacements words :'।'\n",
            "Best replacements words :'-'\n",
            "Suggested replacement for 'appel': 'and'\n",
            "\\Recomended Sentence: i eat and\n",
            "Please enter the sentence you want or type 'exit' to quit: exit\n",
            "Exiting...\n"
          ]
        }
      ],
      "source": [
        "user_input = \"\"\n",
        "while user_input.lower() != \"exit\":\n",
        "    user_input = input(\"Please enter the sentence you want or type 'exit' to quit: \")\n",
        "    if user_input.lower() == \"exit\":\n",
        "        print(\"Exiting...\")\n",
        "    else:\n",
        "        spell_checker(user_input, dictionary, dataset)"
      ]
    },
    {
      "cell_type": "markdown",
      "source": [
        "**Try to meassure accuracy**"
      ],
      "metadata": {
        "id": "mdu_ivj8t5MY"
      }
    }
  ],
  "metadata": {
    "accelerator": "GPU",
    "colab": {
      "gpuType": "T4",
      "provenance": [],
      "mount_file_id": "1bswbe6t7gGg5q82Oewtwt9dnp6TNylZU",
      "authorship_tag": "ABX9TyN1oxLEF/h7I8S0KsLx3ry6",
      "include_colab_link": true
    },
    "kernelspec": {
      "display_name": "Python 3",
      "name": "python3"
    },
    "language_info": {
      "name": "python"
    },
    "widgets": {
      "application/vnd.jupyter.widget-state+json": {
        "3899a5c278fe492da3b02690b3060600": {
          "model_module": "@jupyter-widgets/controls",
          "model_name": "HBoxModel",
          "model_module_version": "1.5.0",
          "state": {
            "_dom_classes": [],
            "_model_module": "@jupyter-widgets/controls",
            "_model_module_version": "1.5.0",
            "_model_name": "HBoxModel",
            "_view_count": null,
            "_view_module": "@jupyter-widgets/controls",
            "_view_module_version": "1.5.0",
            "_view_name": "HBoxView",
            "box_style": "",
            "children": [
              "IPY_MODEL_cf345477cf7b4c75b556d7ce10289edc",
              "IPY_MODEL_b42d998e1034447b9b0811edf7bd006d",
              "IPY_MODEL_8d766be0919d41cd97946bcad74a2fb4"
            ],
            "layout": "IPY_MODEL_794030168fac47029dfbea61b3499b7f"
          }
        },
        "cf345477cf7b4c75b556d7ce10289edc": {
          "model_module": "@jupyter-widgets/controls",
          "model_name": "HTMLModel",
          "model_module_version": "1.5.0",
          "state": {
            "_dom_classes": [],
            "_model_module": "@jupyter-widgets/controls",
            "_model_module_version": "1.5.0",
            "_model_name": "HTMLModel",
            "_view_count": null,
            "_view_module": "@jupyter-widgets/controls",
            "_view_module_version": "1.5.0",
            "_view_name": "HTMLView",
            "description": "",
            "description_tooltip": null,
            "layout": "IPY_MODEL_fd868b49fef541d4a7043171733451bf",
            "placeholder": "​",
            "style": "IPY_MODEL_d42d74abc14947b3b2d3320abc48ec46",
            "value": "tokenizer_config.json: 100%"
          }
        },
        "b42d998e1034447b9b0811edf7bd006d": {
          "model_module": "@jupyter-widgets/controls",
          "model_name": "FloatProgressModel",
          "model_module_version": "1.5.0",
          "state": {
            "_dom_classes": [],
            "_model_module": "@jupyter-widgets/controls",
            "_model_module_version": "1.5.0",
            "_model_name": "FloatProgressModel",
            "_view_count": null,
            "_view_module": "@jupyter-widgets/controls",
            "_view_module_version": "1.5.0",
            "_view_name": "ProgressView",
            "bar_style": "success",
            "description": "",
            "description_tooltip": null,
            "layout": "IPY_MODEL_cf126eef6e374c3584bb09352d139cce",
            "max": 48,
            "min": 0,
            "orientation": "horizontal",
            "style": "IPY_MODEL_33fad0b893b9498ba50e5fd0830e84d8",
            "value": 48
          }
        },
        "8d766be0919d41cd97946bcad74a2fb4": {
          "model_module": "@jupyter-widgets/controls",
          "model_name": "HTMLModel",
          "model_module_version": "1.5.0",
          "state": {
            "_dom_classes": [],
            "_model_module": "@jupyter-widgets/controls",
            "_model_module_version": "1.5.0",
            "_model_name": "HTMLModel",
            "_view_count": null,
            "_view_module": "@jupyter-widgets/controls",
            "_view_module_version": "1.5.0",
            "_view_name": "HTMLView",
            "description": "",
            "description_tooltip": null,
            "layout": "IPY_MODEL_aadfd1c3fcf1442384c88a98edde3970",
            "placeholder": "​",
            "style": "IPY_MODEL_6114986b5ff045d09e1daa1f51658558",
            "value": " 48.0/48.0 [00:00&lt;00:00, 2.14kB/s]"
          }
        },
        "794030168fac47029dfbea61b3499b7f": {
          "model_module": "@jupyter-widgets/base",
          "model_name": "LayoutModel",
          "model_module_version": "1.2.0",
          "state": {
            "_model_module": "@jupyter-widgets/base",
            "_model_module_version": "1.2.0",
            "_model_name": "LayoutModel",
            "_view_count": null,
            "_view_module": "@jupyter-widgets/base",
            "_view_module_version": "1.2.0",
            "_view_name": "LayoutView",
            "align_content": null,
            "align_items": null,
            "align_self": null,
            "border": null,
            "bottom": null,
            "display": null,
            "flex": null,
            "flex_flow": null,
            "grid_area": null,
            "grid_auto_columns": null,
            "grid_auto_flow": null,
            "grid_auto_rows": null,
            "grid_column": null,
            "grid_gap": null,
            "grid_row": null,
            "grid_template_areas": null,
            "grid_template_columns": null,
            "grid_template_rows": null,
            "height": null,
            "justify_content": null,
            "justify_items": null,
            "left": null,
            "margin": null,
            "max_height": null,
            "max_width": null,
            "min_height": null,
            "min_width": null,
            "object_fit": null,
            "object_position": null,
            "order": null,
            "overflow": null,
            "overflow_x": null,
            "overflow_y": null,
            "padding": null,
            "right": null,
            "top": null,
            "visibility": null,
            "width": null
          }
        },
        "fd868b49fef541d4a7043171733451bf": {
          "model_module": "@jupyter-widgets/base",
          "model_name": "LayoutModel",
          "model_module_version": "1.2.0",
          "state": {
            "_model_module": "@jupyter-widgets/base",
            "_model_module_version": "1.2.0",
            "_model_name": "LayoutModel",
            "_view_count": null,
            "_view_module": "@jupyter-widgets/base",
            "_view_module_version": "1.2.0",
            "_view_name": "LayoutView",
            "align_content": null,
            "align_items": null,
            "align_self": null,
            "border": null,
            "bottom": null,
            "display": null,
            "flex": null,
            "flex_flow": null,
            "grid_area": null,
            "grid_auto_columns": null,
            "grid_auto_flow": null,
            "grid_auto_rows": null,
            "grid_column": null,
            "grid_gap": null,
            "grid_row": null,
            "grid_template_areas": null,
            "grid_template_columns": null,
            "grid_template_rows": null,
            "height": null,
            "justify_content": null,
            "justify_items": null,
            "left": null,
            "margin": null,
            "max_height": null,
            "max_width": null,
            "min_height": null,
            "min_width": null,
            "object_fit": null,
            "object_position": null,
            "order": null,
            "overflow": null,
            "overflow_x": null,
            "overflow_y": null,
            "padding": null,
            "right": null,
            "top": null,
            "visibility": null,
            "width": null
          }
        },
        "d42d74abc14947b3b2d3320abc48ec46": {
          "model_module": "@jupyter-widgets/controls",
          "model_name": "DescriptionStyleModel",
          "model_module_version": "1.5.0",
          "state": {
            "_model_module": "@jupyter-widgets/controls",
            "_model_module_version": "1.5.0",
            "_model_name": "DescriptionStyleModel",
            "_view_count": null,
            "_view_module": "@jupyter-widgets/base",
            "_view_module_version": "1.2.0",
            "_view_name": "StyleView",
            "description_width": ""
          }
        },
        "cf126eef6e374c3584bb09352d139cce": {
          "model_module": "@jupyter-widgets/base",
          "model_name": "LayoutModel",
          "model_module_version": "1.2.0",
          "state": {
            "_model_module": "@jupyter-widgets/base",
            "_model_module_version": "1.2.0",
            "_model_name": "LayoutModel",
            "_view_count": null,
            "_view_module": "@jupyter-widgets/base",
            "_view_module_version": "1.2.0",
            "_view_name": "LayoutView",
            "align_content": null,
            "align_items": null,
            "align_self": null,
            "border": null,
            "bottom": null,
            "display": null,
            "flex": null,
            "flex_flow": null,
            "grid_area": null,
            "grid_auto_columns": null,
            "grid_auto_flow": null,
            "grid_auto_rows": null,
            "grid_column": null,
            "grid_gap": null,
            "grid_row": null,
            "grid_template_areas": null,
            "grid_template_columns": null,
            "grid_template_rows": null,
            "height": null,
            "justify_content": null,
            "justify_items": null,
            "left": null,
            "margin": null,
            "max_height": null,
            "max_width": null,
            "min_height": null,
            "min_width": null,
            "object_fit": null,
            "object_position": null,
            "order": null,
            "overflow": null,
            "overflow_x": null,
            "overflow_y": null,
            "padding": null,
            "right": null,
            "top": null,
            "visibility": null,
            "width": null
          }
        },
        "33fad0b893b9498ba50e5fd0830e84d8": {
          "model_module": "@jupyter-widgets/controls",
          "model_name": "ProgressStyleModel",
          "model_module_version": "1.5.0",
          "state": {
            "_model_module": "@jupyter-widgets/controls",
            "_model_module_version": "1.5.0",
            "_model_name": "ProgressStyleModel",
            "_view_count": null,
            "_view_module": "@jupyter-widgets/base",
            "_view_module_version": "1.2.0",
            "_view_name": "StyleView",
            "bar_color": null,
            "description_width": ""
          }
        },
        "aadfd1c3fcf1442384c88a98edde3970": {
          "model_module": "@jupyter-widgets/base",
          "model_name": "LayoutModel",
          "model_module_version": "1.2.0",
          "state": {
            "_model_module": "@jupyter-widgets/base",
            "_model_module_version": "1.2.0",
            "_model_name": "LayoutModel",
            "_view_count": null,
            "_view_module": "@jupyter-widgets/base",
            "_view_module_version": "1.2.0",
            "_view_name": "LayoutView",
            "align_content": null,
            "align_items": null,
            "align_self": null,
            "border": null,
            "bottom": null,
            "display": null,
            "flex": null,
            "flex_flow": null,
            "grid_area": null,
            "grid_auto_columns": null,
            "grid_auto_flow": null,
            "grid_auto_rows": null,
            "grid_column": null,
            "grid_gap": null,
            "grid_row": null,
            "grid_template_areas": null,
            "grid_template_columns": null,
            "grid_template_rows": null,
            "height": null,
            "justify_content": null,
            "justify_items": null,
            "left": null,
            "margin": null,
            "max_height": null,
            "max_width": null,
            "min_height": null,
            "min_width": null,
            "object_fit": null,
            "object_position": null,
            "order": null,
            "overflow": null,
            "overflow_x": null,
            "overflow_y": null,
            "padding": null,
            "right": null,
            "top": null,
            "visibility": null,
            "width": null
          }
        },
        "6114986b5ff045d09e1daa1f51658558": {
          "model_module": "@jupyter-widgets/controls",
          "model_name": "DescriptionStyleModel",
          "model_module_version": "1.5.0",
          "state": {
            "_model_module": "@jupyter-widgets/controls",
            "_model_module_version": "1.5.0",
            "_model_name": "DescriptionStyleModel",
            "_view_count": null,
            "_view_module": "@jupyter-widgets/base",
            "_view_module_version": "1.2.0",
            "_view_name": "StyleView",
            "description_width": ""
          }
        },
        "55ba84710af249d69e830bc7ad873521": {
          "model_module": "@jupyter-widgets/controls",
          "model_name": "HBoxModel",
          "model_module_version": "1.5.0",
          "state": {
            "_dom_classes": [],
            "_model_module": "@jupyter-widgets/controls",
            "_model_module_version": "1.5.0",
            "_model_name": "HBoxModel",
            "_view_count": null,
            "_view_module": "@jupyter-widgets/controls",
            "_view_module_version": "1.5.0",
            "_view_name": "HBoxView",
            "box_style": "",
            "children": [
              "IPY_MODEL_295691a315fa4e6992af500104441b29",
              "IPY_MODEL_35157c2cf40947fe9bb6933044c57133",
              "IPY_MODEL_7d05d6cdc2bc458e92f8f6cb1010f858"
            ],
            "layout": "IPY_MODEL_61c137350ada49f7810c1434f9f790c4"
          }
        },
        "295691a315fa4e6992af500104441b29": {
          "model_module": "@jupyter-widgets/controls",
          "model_name": "HTMLModel",
          "model_module_version": "1.5.0",
          "state": {
            "_dom_classes": [],
            "_model_module": "@jupyter-widgets/controls",
            "_model_module_version": "1.5.0",
            "_model_name": "HTMLModel",
            "_view_count": null,
            "_view_module": "@jupyter-widgets/controls",
            "_view_module_version": "1.5.0",
            "_view_name": "HTMLView",
            "description": "",
            "description_tooltip": null,
            "layout": "IPY_MODEL_a832f8b49e9c447789626f75e60a7714",
            "placeholder": "​",
            "style": "IPY_MODEL_46965c5e9a83448dbf075d64cc23d107",
            "value": "vocab.txt: 100%"
          }
        },
        "35157c2cf40947fe9bb6933044c57133": {
          "model_module": "@jupyter-widgets/controls",
          "model_name": "FloatProgressModel",
          "model_module_version": "1.5.0",
          "state": {
            "_dom_classes": [],
            "_model_module": "@jupyter-widgets/controls",
            "_model_module_version": "1.5.0",
            "_model_name": "FloatProgressModel",
            "_view_count": null,
            "_view_module": "@jupyter-widgets/controls",
            "_view_module_version": "1.5.0",
            "_view_name": "ProgressView",
            "bar_style": "success",
            "description": "",
            "description_tooltip": null,
            "layout": "IPY_MODEL_75059d4d36314adc92cd550e30355428",
            "max": 231508,
            "min": 0,
            "orientation": "horizontal",
            "style": "IPY_MODEL_54ee2691a1664c42ad818952c95d454e",
            "value": 231508
          }
        },
        "7d05d6cdc2bc458e92f8f6cb1010f858": {
          "model_module": "@jupyter-widgets/controls",
          "model_name": "HTMLModel",
          "model_module_version": "1.5.0",
          "state": {
            "_dom_classes": [],
            "_model_module": "@jupyter-widgets/controls",
            "_model_module_version": "1.5.0",
            "_model_name": "HTMLModel",
            "_view_count": null,
            "_view_module": "@jupyter-widgets/controls",
            "_view_module_version": "1.5.0",
            "_view_name": "HTMLView",
            "description": "",
            "description_tooltip": null,
            "layout": "IPY_MODEL_1b6537ca1a1349b8b0680ea4dc7213a0",
            "placeholder": "​",
            "style": "IPY_MODEL_05f2da7d1ce14ba393f35d569ad72ec7",
            "value": " 232k/232k [00:00&lt;00:00, 4.95MB/s]"
          }
        },
        "61c137350ada49f7810c1434f9f790c4": {
          "model_module": "@jupyter-widgets/base",
          "model_name": "LayoutModel",
          "model_module_version": "1.2.0",
          "state": {
            "_model_module": "@jupyter-widgets/base",
            "_model_module_version": "1.2.0",
            "_model_name": "LayoutModel",
            "_view_count": null,
            "_view_module": "@jupyter-widgets/base",
            "_view_module_version": "1.2.0",
            "_view_name": "LayoutView",
            "align_content": null,
            "align_items": null,
            "align_self": null,
            "border": null,
            "bottom": null,
            "display": null,
            "flex": null,
            "flex_flow": null,
            "grid_area": null,
            "grid_auto_columns": null,
            "grid_auto_flow": null,
            "grid_auto_rows": null,
            "grid_column": null,
            "grid_gap": null,
            "grid_row": null,
            "grid_template_areas": null,
            "grid_template_columns": null,
            "grid_template_rows": null,
            "height": null,
            "justify_content": null,
            "justify_items": null,
            "left": null,
            "margin": null,
            "max_height": null,
            "max_width": null,
            "min_height": null,
            "min_width": null,
            "object_fit": null,
            "object_position": null,
            "order": null,
            "overflow": null,
            "overflow_x": null,
            "overflow_y": null,
            "padding": null,
            "right": null,
            "top": null,
            "visibility": null,
            "width": null
          }
        },
        "a832f8b49e9c447789626f75e60a7714": {
          "model_module": "@jupyter-widgets/base",
          "model_name": "LayoutModel",
          "model_module_version": "1.2.0",
          "state": {
            "_model_module": "@jupyter-widgets/base",
            "_model_module_version": "1.2.0",
            "_model_name": "LayoutModel",
            "_view_count": null,
            "_view_module": "@jupyter-widgets/base",
            "_view_module_version": "1.2.0",
            "_view_name": "LayoutView",
            "align_content": null,
            "align_items": null,
            "align_self": null,
            "border": null,
            "bottom": null,
            "display": null,
            "flex": null,
            "flex_flow": null,
            "grid_area": null,
            "grid_auto_columns": null,
            "grid_auto_flow": null,
            "grid_auto_rows": null,
            "grid_column": null,
            "grid_gap": null,
            "grid_row": null,
            "grid_template_areas": null,
            "grid_template_columns": null,
            "grid_template_rows": null,
            "height": null,
            "justify_content": null,
            "justify_items": null,
            "left": null,
            "margin": null,
            "max_height": null,
            "max_width": null,
            "min_height": null,
            "min_width": null,
            "object_fit": null,
            "object_position": null,
            "order": null,
            "overflow": null,
            "overflow_x": null,
            "overflow_y": null,
            "padding": null,
            "right": null,
            "top": null,
            "visibility": null,
            "width": null
          }
        },
        "46965c5e9a83448dbf075d64cc23d107": {
          "model_module": "@jupyter-widgets/controls",
          "model_name": "DescriptionStyleModel",
          "model_module_version": "1.5.0",
          "state": {
            "_model_module": "@jupyter-widgets/controls",
            "_model_module_version": "1.5.0",
            "_model_name": "DescriptionStyleModel",
            "_view_count": null,
            "_view_module": "@jupyter-widgets/base",
            "_view_module_version": "1.2.0",
            "_view_name": "StyleView",
            "description_width": ""
          }
        },
        "75059d4d36314adc92cd550e30355428": {
          "model_module": "@jupyter-widgets/base",
          "model_name": "LayoutModel",
          "model_module_version": "1.2.0",
          "state": {
            "_model_module": "@jupyter-widgets/base",
            "_model_module_version": "1.2.0",
            "_model_name": "LayoutModel",
            "_view_count": null,
            "_view_module": "@jupyter-widgets/base",
            "_view_module_version": "1.2.0",
            "_view_name": "LayoutView",
            "align_content": null,
            "align_items": null,
            "align_self": null,
            "border": null,
            "bottom": null,
            "display": null,
            "flex": null,
            "flex_flow": null,
            "grid_area": null,
            "grid_auto_columns": null,
            "grid_auto_flow": null,
            "grid_auto_rows": null,
            "grid_column": null,
            "grid_gap": null,
            "grid_row": null,
            "grid_template_areas": null,
            "grid_template_columns": null,
            "grid_template_rows": null,
            "height": null,
            "justify_content": null,
            "justify_items": null,
            "left": null,
            "margin": null,
            "max_height": null,
            "max_width": null,
            "min_height": null,
            "min_width": null,
            "object_fit": null,
            "object_position": null,
            "order": null,
            "overflow": null,
            "overflow_x": null,
            "overflow_y": null,
            "padding": null,
            "right": null,
            "top": null,
            "visibility": null,
            "width": null
          }
        },
        "54ee2691a1664c42ad818952c95d454e": {
          "model_module": "@jupyter-widgets/controls",
          "model_name": "ProgressStyleModel",
          "model_module_version": "1.5.0",
          "state": {
            "_model_module": "@jupyter-widgets/controls",
            "_model_module_version": "1.5.0",
            "_model_name": "ProgressStyleModel",
            "_view_count": null,
            "_view_module": "@jupyter-widgets/base",
            "_view_module_version": "1.2.0",
            "_view_name": "StyleView",
            "bar_color": null,
            "description_width": ""
          }
        },
        "1b6537ca1a1349b8b0680ea4dc7213a0": {
          "model_module": "@jupyter-widgets/base",
          "model_name": "LayoutModel",
          "model_module_version": "1.2.0",
          "state": {
            "_model_module": "@jupyter-widgets/base",
            "_model_module_version": "1.2.0",
            "_model_name": "LayoutModel",
            "_view_count": null,
            "_view_module": "@jupyter-widgets/base",
            "_view_module_version": "1.2.0",
            "_view_name": "LayoutView",
            "align_content": null,
            "align_items": null,
            "align_self": null,
            "border": null,
            "bottom": null,
            "display": null,
            "flex": null,
            "flex_flow": null,
            "grid_area": null,
            "grid_auto_columns": null,
            "grid_auto_flow": null,
            "grid_auto_rows": null,
            "grid_column": null,
            "grid_gap": null,
            "grid_row": null,
            "grid_template_areas": null,
            "grid_template_columns": null,
            "grid_template_rows": null,
            "height": null,
            "justify_content": null,
            "justify_items": null,
            "left": null,
            "margin": null,
            "max_height": null,
            "max_width": null,
            "min_height": null,
            "min_width": null,
            "object_fit": null,
            "object_position": null,
            "order": null,
            "overflow": null,
            "overflow_x": null,
            "overflow_y": null,
            "padding": null,
            "right": null,
            "top": null,
            "visibility": null,
            "width": null
          }
        },
        "05f2da7d1ce14ba393f35d569ad72ec7": {
          "model_module": "@jupyter-widgets/controls",
          "model_name": "DescriptionStyleModel",
          "model_module_version": "1.5.0",
          "state": {
            "_model_module": "@jupyter-widgets/controls",
            "_model_module_version": "1.5.0",
            "_model_name": "DescriptionStyleModel",
            "_view_count": null,
            "_view_module": "@jupyter-widgets/base",
            "_view_module_version": "1.2.0",
            "_view_name": "StyleView",
            "description_width": ""
          }
        },
        "256c947f92964218a0c181c325fc3b5c": {
          "model_module": "@jupyter-widgets/controls",
          "model_name": "HBoxModel",
          "model_module_version": "1.5.0",
          "state": {
            "_dom_classes": [],
            "_model_module": "@jupyter-widgets/controls",
            "_model_module_version": "1.5.0",
            "_model_name": "HBoxModel",
            "_view_count": null,
            "_view_module": "@jupyter-widgets/controls",
            "_view_module_version": "1.5.0",
            "_view_name": "HBoxView",
            "box_style": "",
            "children": [
              "IPY_MODEL_712bc9fd005e430ebe3731dd715db785",
              "IPY_MODEL_f5590b04c966441f8ef544c019daf075",
              "IPY_MODEL_d316ca90915244c7aebfb5aefeba3999"
            ],
            "layout": "IPY_MODEL_703b94d839374cc0857033f0a07be95f"
          }
        },
        "712bc9fd005e430ebe3731dd715db785": {
          "model_module": "@jupyter-widgets/controls",
          "model_name": "HTMLModel",
          "model_module_version": "1.5.0",
          "state": {
            "_dom_classes": [],
            "_model_module": "@jupyter-widgets/controls",
            "_model_module_version": "1.5.0",
            "_model_name": "HTMLModel",
            "_view_count": null,
            "_view_module": "@jupyter-widgets/controls",
            "_view_module_version": "1.5.0",
            "_view_name": "HTMLView",
            "description": "",
            "description_tooltip": null,
            "layout": "IPY_MODEL_f57abac0d14247f78a9735b666e0ca07",
            "placeholder": "​",
            "style": "IPY_MODEL_1d366779c9234d11bdd38aa317434bb9",
            "value": "tokenizer.json: 100%"
          }
        },
        "f5590b04c966441f8ef544c019daf075": {
          "model_module": "@jupyter-widgets/controls",
          "model_name": "FloatProgressModel",
          "model_module_version": "1.5.0",
          "state": {
            "_dom_classes": [],
            "_model_module": "@jupyter-widgets/controls",
            "_model_module_version": "1.5.0",
            "_model_name": "FloatProgressModel",
            "_view_count": null,
            "_view_module": "@jupyter-widgets/controls",
            "_view_module_version": "1.5.0",
            "_view_name": "ProgressView",
            "bar_style": "success",
            "description": "",
            "description_tooltip": null,
            "layout": "IPY_MODEL_1b22598acd1b4638a418dbc892e910dd",
            "max": 466062,
            "min": 0,
            "orientation": "horizontal",
            "style": "IPY_MODEL_028b46763127484284ff19b44370aca0",
            "value": 466062
          }
        },
        "d316ca90915244c7aebfb5aefeba3999": {
          "model_module": "@jupyter-widgets/controls",
          "model_name": "HTMLModel",
          "model_module_version": "1.5.0",
          "state": {
            "_dom_classes": [],
            "_model_module": "@jupyter-widgets/controls",
            "_model_module_version": "1.5.0",
            "_model_name": "HTMLModel",
            "_view_count": null,
            "_view_module": "@jupyter-widgets/controls",
            "_view_module_version": "1.5.0",
            "_view_name": "HTMLView",
            "description": "",
            "description_tooltip": null,
            "layout": "IPY_MODEL_d7f5402d7d0f4845ae9b28b93f223a8e",
            "placeholder": "​",
            "style": "IPY_MODEL_08bdb006837b45c9831c07803dae5d3e",
            "value": " 466k/466k [00:00&lt;00:00, 14.9MB/s]"
          }
        },
        "703b94d839374cc0857033f0a07be95f": {
          "model_module": "@jupyter-widgets/base",
          "model_name": "LayoutModel",
          "model_module_version": "1.2.0",
          "state": {
            "_model_module": "@jupyter-widgets/base",
            "_model_module_version": "1.2.0",
            "_model_name": "LayoutModel",
            "_view_count": null,
            "_view_module": "@jupyter-widgets/base",
            "_view_module_version": "1.2.0",
            "_view_name": "LayoutView",
            "align_content": null,
            "align_items": null,
            "align_self": null,
            "border": null,
            "bottom": null,
            "display": null,
            "flex": null,
            "flex_flow": null,
            "grid_area": null,
            "grid_auto_columns": null,
            "grid_auto_flow": null,
            "grid_auto_rows": null,
            "grid_column": null,
            "grid_gap": null,
            "grid_row": null,
            "grid_template_areas": null,
            "grid_template_columns": null,
            "grid_template_rows": null,
            "height": null,
            "justify_content": null,
            "justify_items": null,
            "left": null,
            "margin": null,
            "max_height": null,
            "max_width": null,
            "min_height": null,
            "min_width": null,
            "object_fit": null,
            "object_position": null,
            "order": null,
            "overflow": null,
            "overflow_x": null,
            "overflow_y": null,
            "padding": null,
            "right": null,
            "top": null,
            "visibility": null,
            "width": null
          }
        },
        "f57abac0d14247f78a9735b666e0ca07": {
          "model_module": "@jupyter-widgets/base",
          "model_name": "LayoutModel",
          "model_module_version": "1.2.0",
          "state": {
            "_model_module": "@jupyter-widgets/base",
            "_model_module_version": "1.2.0",
            "_model_name": "LayoutModel",
            "_view_count": null,
            "_view_module": "@jupyter-widgets/base",
            "_view_module_version": "1.2.0",
            "_view_name": "LayoutView",
            "align_content": null,
            "align_items": null,
            "align_self": null,
            "border": null,
            "bottom": null,
            "display": null,
            "flex": null,
            "flex_flow": null,
            "grid_area": null,
            "grid_auto_columns": null,
            "grid_auto_flow": null,
            "grid_auto_rows": null,
            "grid_column": null,
            "grid_gap": null,
            "grid_row": null,
            "grid_template_areas": null,
            "grid_template_columns": null,
            "grid_template_rows": null,
            "height": null,
            "justify_content": null,
            "justify_items": null,
            "left": null,
            "margin": null,
            "max_height": null,
            "max_width": null,
            "min_height": null,
            "min_width": null,
            "object_fit": null,
            "object_position": null,
            "order": null,
            "overflow": null,
            "overflow_x": null,
            "overflow_y": null,
            "padding": null,
            "right": null,
            "top": null,
            "visibility": null,
            "width": null
          }
        },
        "1d366779c9234d11bdd38aa317434bb9": {
          "model_module": "@jupyter-widgets/controls",
          "model_name": "DescriptionStyleModel",
          "model_module_version": "1.5.0",
          "state": {
            "_model_module": "@jupyter-widgets/controls",
            "_model_module_version": "1.5.0",
            "_model_name": "DescriptionStyleModel",
            "_view_count": null,
            "_view_module": "@jupyter-widgets/base",
            "_view_module_version": "1.2.0",
            "_view_name": "StyleView",
            "description_width": ""
          }
        },
        "1b22598acd1b4638a418dbc892e910dd": {
          "model_module": "@jupyter-widgets/base",
          "model_name": "LayoutModel",
          "model_module_version": "1.2.0",
          "state": {
            "_model_module": "@jupyter-widgets/base",
            "_model_module_version": "1.2.0",
            "_model_name": "LayoutModel",
            "_view_count": null,
            "_view_module": "@jupyter-widgets/base",
            "_view_module_version": "1.2.0",
            "_view_name": "LayoutView",
            "align_content": null,
            "align_items": null,
            "align_self": null,
            "border": null,
            "bottom": null,
            "display": null,
            "flex": null,
            "flex_flow": null,
            "grid_area": null,
            "grid_auto_columns": null,
            "grid_auto_flow": null,
            "grid_auto_rows": null,
            "grid_column": null,
            "grid_gap": null,
            "grid_row": null,
            "grid_template_areas": null,
            "grid_template_columns": null,
            "grid_template_rows": null,
            "height": null,
            "justify_content": null,
            "justify_items": null,
            "left": null,
            "margin": null,
            "max_height": null,
            "max_width": null,
            "min_height": null,
            "min_width": null,
            "object_fit": null,
            "object_position": null,
            "order": null,
            "overflow": null,
            "overflow_x": null,
            "overflow_y": null,
            "padding": null,
            "right": null,
            "top": null,
            "visibility": null,
            "width": null
          }
        },
        "028b46763127484284ff19b44370aca0": {
          "model_module": "@jupyter-widgets/controls",
          "model_name": "ProgressStyleModel",
          "model_module_version": "1.5.0",
          "state": {
            "_model_module": "@jupyter-widgets/controls",
            "_model_module_version": "1.5.0",
            "_model_name": "ProgressStyleModel",
            "_view_count": null,
            "_view_module": "@jupyter-widgets/base",
            "_view_module_version": "1.2.0",
            "_view_name": "StyleView",
            "bar_color": null,
            "description_width": ""
          }
        },
        "d7f5402d7d0f4845ae9b28b93f223a8e": {
          "model_module": "@jupyter-widgets/base",
          "model_name": "LayoutModel",
          "model_module_version": "1.2.0",
          "state": {
            "_model_module": "@jupyter-widgets/base",
            "_model_module_version": "1.2.0",
            "_model_name": "LayoutModel",
            "_view_count": null,
            "_view_module": "@jupyter-widgets/base",
            "_view_module_version": "1.2.0",
            "_view_name": "LayoutView",
            "align_content": null,
            "align_items": null,
            "align_self": null,
            "border": null,
            "bottom": null,
            "display": null,
            "flex": null,
            "flex_flow": null,
            "grid_area": null,
            "grid_auto_columns": null,
            "grid_auto_flow": null,
            "grid_auto_rows": null,
            "grid_column": null,
            "grid_gap": null,
            "grid_row": null,
            "grid_template_areas": null,
            "grid_template_columns": null,
            "grid_template_rows": null,
            "height": null,
            "justify_content": null,
            "justify_items": null,
            "left": null,
            "margin": null,
            "max_height": null,
            "max_width": null,
            "min_height": null,
            "min_width": null,
            "object_fit": null,
            "object_position": null,
            "order": null,
            "overflow": null,
            "overflow_x": null,
            "overflow_y": null,
            "padding": null,
            "right": null,
            "top": null,
            "visibility": null,
            "width": null
          }
        },
        "08bdb006837b45c9831c07803dae5d3e": {
          "model_module": "@jupyter-widgets/controls",
          "model_name": "DescriptionStyleModel",
          "model_module_version": "1.5.0",
          "state": {
            "_model_module": "@jupyter-widgets/controls",
            "_model_module_version": "1.5.0",
            "_model_name": "DescriptionStyleModel",
            "_view_count": null,
            "_view_module": "@jupyter-widgets/base",
            "_view_module_version": "1.2.0",
            "_view_name": "StyleView",
            "description_width": ""
          }
        },
        "28ca08388ca9459c850628db2c329089": {
          "model_module": "@jupyter-widgets/controls",
          "model_name": "HBoxModel",
          "model_module_version": "1.5.0",
          "state": {
            "_dom_classes": [],
            "_model_module": "@jupyter-widgets/controls",
            "_model_module_version": "1.5.0",
            "_model_name": "HBoxModel",
            "_view_count": null,
            "_view_module": "@jupyter-widgets/controls",
            "_view_module_version": "1.5.0",
            "_view_name": "HBoxView",
            "box_style": "",
            "children": [
              "IPY_MODEL_799032963fbd41dc8deea20ede1948b1",
              "IPY_MODEL_37eab13be43b4845905e442ed581c32b",
              "IPY_MODEL_85ba14b328d74065b472d6a8d736cb56"
            ],
            "layout": "IPY_MODEL_df8c24ed83674c619ffca6768805543c"
          }
        },
        "799032963fbd41dc8deea20ede1948b1": {
          "model_module": "@jupyter-widgets/controls",
          "model_name": "HTMLModel",
          "model_module_version": "1.5.0",
          "state": {
            "_dom_classes": [],
            "_model_module": "@jupyter-widgets/controls",
            "_model_module_version": "1.5.0",
            "_model_name": "HTMLModel",
            "_view_count": null,
            "_view_module": "@jupyter-widgets/controls",
            "_view_module_version": "1.5.0",
            "_view_name": "HTMLView",
            "description": "",
            "description_tooltip": null,
            "layout": "IPY_MODEL_3b36ca5690394aaeaf47a9e62f2e52be",
            "placeholder": "​",
            "style": "IPY_MODEL_75e7468800dd4c7099ba744661f2a709",
            "value": "config.json: 100%"
          }
        },
        "37eab13be43b4845905e442ed581c32b": {
          "model_module": "@jupyter-widgets/controls",
          "model_name": "FloatProgressModel",
          "model_module_version": "1.5.0",
          "state": {
            "_dom_classes": [],
            "_model_module": "@jupyter-widgets/controls",
            "_model_module_version": "1.5.0",
            "_model_name": "FloatProgressModel",
            "_view_count": null,
            "_view_module": "@jupyter-widgets/controls",
            "_view_module_version": "1.5.0",
            "_view_name": "ProgressView",
            "bar_style": "success",
            "description": "",
            "description_tooltip": null,
            "layout": "IPY_MODEL_8ca2217fa63e493bab61faeab4368402",
            "max": 570,
            "min": 0,
            "orientation": "horizontal",
            "style": "IPY_MODEL_5a89db8ad42b460d9349b1e8c8fa452d",
            "value": 570
          }
        },
        "85ba14b328d74065b472d6a8d736cb56": {
          "model_module": "@jupyter-widgets/controls",
          "model_name": "HTMLModel",
          "model_module_version": "1.5.0",
          "state": {
            "_dom_classes": [],
            "_model_module": "@jupyter-widgets/controls",
            "_model_module_version": "1.5.0",
            "_model_name": "HTMLModel",
            "_view_count": null,
            "_view_module": "@jupyter-widgets/controls",
            "_view_module_version": "1.5.0",
            "_view_name": "HTMLView",
            "description": "",
            "description_tooltip": null,
            "layout": "IPY_MODEL_caa1e8c5c9894edba776e6086d263aa0",
            "placeholder": "​",
            "style": "IPY_MODEL_cd96e77a4b2241de937ed809c07a996c",
            "value": " 570/570 [00:00&lt;00:00, 23.3kB/s]"
          }
        },
        "df8c24ed83674c619ffca6768805543c": {
          "model_module": "@jupyter-widgets/base",
          "model_name": "LayoutModel",
          "model_module_version": "1.2.0",
          "state": {
            "_model_module": "@jupyter-widgets/base",
            "_model_module_version": "1.2.0",
            "_model_name": "LayoutModel",
            "_view_count": null,
            "_view_module": "@jupyter-widgets/base",
            "_view_module_version": "1.2.0",
            "_view_name": "LayoutView",
            "align_content": null,
            "align_items": null,
            "align_self": null,
            "border": null,
            "bottom": null,
            "display": null,
            "flex": null,
            "flex_flow": null,
            "grid_area": null,
            "grid_auto_columns": null,
            "grid_auto_flow": null,
            "grid_auto_rows": null,
            "grid_column": null,
            "grid_gap": null,
            "grid_row": null,
            "grid_template_areas": null,
            "grid_template_columns": null,
            "grid_template_rows": null,
            "height": null,
            "justify_content": null,
            "justify_items": null,
            "left": null,
            "margin": null,
            "max_height": null,
            "max_width": null,
            "min_height": null,
            "min_width": null,
            "object_fit": null,
            "object_position": null,
            "order": null,
            "overflow": null,
            "overflow_x": null,
            "overflow_y": null,
            "padding": null,
            "right": null,
            "top": null,
            "visibility": null,
            "width": null
          }
        },
        "3b36ca5690394aaeaf47a9e62f2e52be": {
          "model_module": "@jupyter-widgets/base",
          "model_name": "LayoutModel",
          "model_module_version": "1.2.0",
          "state": {
            "_model_module": "@jupyter-widgets/base",
            "_model_module_version": "1.2.0",
            "_model_name": "LayoutModel",
            "_view_count": null,
            "_view_module": "@jupyter-widgets/base",
            "_view_module_version": "1.2.0",
            "_view_name": "LayoutView",
            "align_content": null,
            "align_items": null,
            "align_self": null,
            "border": null,
            "bottom": null,
            "display": null,
            "flex": null,
            "flex_flow": null,
            "grid_area": null,
            "grid_auto_columns": null,
            "grid_auto_flow": null,
            "grid_auto_rows": null,
            "grid_column": null,
            "grid_gap": null,
            "grid_row": null,
            "grid_template_areas": null,
            "grid_template_columns": null,
            "grid_template_rows": null,
            "height": null,
            "justify_content": null,
            "justify_items": null,
            "left": null,
            "margin": null,
            "max_height": null,
            "max_width": null,
            "min_height": null,
            "min_width": null,
            "object_fit": null,
            "object_position": null,
            "order": null,
            "overflow": null,
            "overflow_x": null,
            "overflow_y": null,
            "padding": null,
            "right": null,
            "top": null,
            "visibility": null,
            "width": null
          }
        },
        "75e7468800dd4c7099ba744661f2a709": {
          "model_module": "@jupyter-widgets/controls",
          "model_name": "DescriptionStyleModel",
          "model_module_version": "1.5.0",
          "state": {
            "_model_module": "@jupyter-widgets/controls",
            "_model_module_version": "1.5.0",
            "_model_name": "DescriptionStyleModel",
            "_view_count": null,
            "_view_module": "@jupyter-widgets/base",
            "_view_module_version": "1.2.0",
            "_view_name": "StyleView",
            "description_width": ""
          }
        },
        "8ca2217fa63e493bab61faeab4368402": {
          "model_module": "@jupyter-widgets/base",
          "model_name": "LayoutModel",
          "model_module_version": "1.2.0",
          "state": {
            "_model_module": "@jupyter-widgets/base",
            "_model_module_version": "1.2.0",
            "_model_name": "LayoutModel",
            "_view_count": null,
            "_view_module": "@jupyter-widgets/base",
            "_view_module_version": "1.2.0",
            "_view_name": "LayoutView",
            "align_content": null,
            "align_items": null,
            "align_self": null,
            "border": null,
            "bottom": null,
            "display": null,
            "flex": null,
            "flex_flow": null,
            "grid_area": null,
            "grid_auto_columns": null,
            "grid_auto_flow": null,
            "grid_auto_rows": null,
            "grid_column": null,
            "grid_gap": null,
            "grid_row": null,
            "grid_template_areas": null,
            "grid_template_columns": null,
            "grid_template_rows": null,
            "height": null,
            "justify_content": null,
            "justify_items": null,
            "left": null,
            "margin": null,
            "max_height": null,
            "max_width": null,
            "min_height": null,
            "min_width": null,
            "object_fit": null,
            "object_position": null,
            "order": null,
            "overflow": null,
            "overflow_x": null,
            "overflow_y": null,
            "padding": null,
            "right": null,
            "top": null,
            "visibility": null,
            "width": null
          }
        },
        "5a89db8ad42b460d9349b1e8c8fa452d": {
          "model_module": "@jupyter-widgets/controls",
          "model_name": "ProgressStyleModel",
          "model_module_version": "1.5.0",
          "state": {
            "_model_module": "@jupyter-widgets/controls",
            "_model_module_version": "1.5.0",
            "_model_name": "ProgressStyleModel",
            "_view_count": null,
            "_view_module": "@jupyter-widgets/base",
            "_view_module_version": "1.2.0",
            "_view_name": "StyleView",
            "bar_color": null,
            "description_width": ""
          }
        },
        "caa1e8c5c9894edba776e6086d263aa0": {
          "model_module": "@jupyter-widgets/base",
          "model_name": "LayoutModel",
          "model_module_version": "1.2.0",
          "state": {
            "_model_module": "@jupyter-widgets/base",
            "_model_module_version": "1.2.0",
            "_model_name": "LayoutModel",
            "_view_count": null,
            "_view_module": "@jupyter-widgets/base",
            "_view_module_version": "1.2.0",
            "_view_name": "LayoutView",
            "align_content": null,
            "align_items": null,
            "align_self": null,
            "border": null,
            "bottom": null,
            "display": null,
            "flex": null,
            "flex_flow": null,
            "grid_area": null,
            "grid_auto_columns": null,
            "grid_auto_flow": null,
            "grid_auto_rows": null,
            "grid_column": null,
            "grid_gap": null,
            "grid_row": null,
            "grid_template_areas": null,
            "grid_template_columns": null,
            "grid_template_rows": null,
            "height": null,
            "justify_content": null,
            "justify_items": null,
            "left": null,
            "margin": null,
            "max_height": null,
            "max_width": null,
            "min_height": null,
            "min_width": null,
            "object_fit": null,
            "object_position": null,
            "order": null,
            "overflow": null,
            "overflow_x": null,
            "overflow_y": null,
            "padding": null,
            "right": null,
            "top": null,
            "visibility": null,
            "width": null
          }
        },
        "cd96e77a4b2241de937ed809c07a996c": {
          "model_module": "@jupyter-widgets/controls",
          "model_name": "DescriptionStyleModel",
          "model_module_version": "1.5.0",
          "state": {
            "_model_module": "@jupyter-widgets/controls",
            "_model_module_version": "1.5.0",
            "_model_name": "DescriptionStyleModel",
            "_view_count": null,
            "_view_module": "@jupyter-widgets/base",
            "_view_module_version": "1.2.0",
            "_view_name": "StyleView",
            "description_width": ""
          }
        },
        "84371c4f6343402697e22a6219787333": {
          "model_module": "@jupyter-widgets/controls",
          "model_name": "HBoxModel",
          "model_module_version": "1.5.0",
          "state": {
            "_dom_classes": [],
            "_model_module": "@jupyter-widgets/controls",
            "_model_module_version": "1.5.0",
            "_model_name": "HBoxModel",
            "_view_count": null,
            "_view_module": "@jupyter-widgets/controls",
            "_view_module_version": "1.5.0",
            "_view_name": "HBoxView",
            "box_style": "",
            "children": [
              "IPY_MODEL_6ee002820daf46d8a281486893ae8fc5",
              "IPY_MODEL_b73c878db4c84641b34a5f18e6e873fb",
              "IPY_MODEL_6a5d1adadf924784bb8701b474b4c600"
            ],
            "layout": "IPY_MODEL_905c757f3d06451d9a1251d9cf1fa60e"
          }
        },
        "6ee002820daf46d8a281486893ae8fc5": {
          "model_module": "@jupyter-widgets/controls",
          "model_name": "HTMLModel",
          "model_module_version": "1.5.0",
          "state": {
            "_dom_classes": [],
            "_model_module": "@jupyter-widgets/controls",
            "_model_module_version": "1.5.0",
            "_model_name": "HTMLModel",
            "_view_count": null,
            "_view_module": "@jupyter-widgets/controls",
            "_view_module_version": "1.5.0",
            "_view_name": "HTMLView",
            "description": "",
            "description_tooltip": null,
            "layout": "IPY_MODEL_5e12425e95b24136acba44fcfbdfd667",
            "placeholder": "​",
            "style": "IPY_MODEL_2a70e8d51b414e398d691bf160ee94d6",
            "value": "model.safetensors: 100%"
          }
        },
        "b73c878db4c84641b34a5f18e6e873fb": {
          "model_module": "@jupyter-widgets/controls",
          "model_name": "FloatProgressModel",
          "model_module_version": "1.5.0",
          "state": {
            "_dom_classes": [],
            "_model_module": "@jupyter-widgets/controls",
            "_model_module_version": "1.5.0",
            "_model_name": "FloatProgressModel",
            "_view_count": null,
            "_view_module": "@jupyter-widgets/controls",
            "_view_module_version": "1.5.0",
            "_view_name": "ProgressView",
            "bar_style": "success",
            "description": "",
            "description_tooltip": null,
            "layout": "IPY_MODEL_31e003318d0249a98c6014fbdf18412c",
            "max": 440449768,
            "min": 0,
            "orientation": "horizontal",
            "style": "IPY_MODEL_08764c06f96443b4bcfed9122642db4e",
            "value": 440449768
          }
        },
        "6a5d1adadf924784bb8701b474b4c600": {
          "model_module": "@jupyter-widgets/controls",
          "model_name": "HTMLModel",
          "model_module_version": "1.5.0",
          "state": {
            "_dom_classes": [],
            "_model_module": "@jupyter-widgets/controls",
            "_model_module_version": "1.5.0",
            "_model_name": "HTMLModel",
            "_view_count": null,
            "_view_module": "@jupyter-widgets/controls",
            "_view_module_version": "1.5.0",
            "_view_name": "HTMLView",
            "description": "",
            "description_tooltip": null,
            "layout": "IPY_MODEL_cc11ddf034a84f958ae0cd2a2eece4b2",
            "placeholder": "​",
            "style": "IPY_MODEL_dce31f62addb447190374ab16a9dde76",
            "value": " 440M/440M [00:02&lt;00:00, 224MB/s]"
          }
        },
        "905c757f3d06451d9a1251d9cf1fa60e": {
          "model_module": "@jupyter-widgets/base",
          "model_name": "LayoutModel",
          "model_module_version": "1.2.0",
          "state": {
            "_model_module": "@jupyter-widgets/base",
            "_model_module_version": "1.2.0",
            "_model_name": "LayoutModel",
            "_view_count": null,
            "_view_module": "@jupyter-widgets/base",
            "_view_module_version": "1.2.0",
            "_view_name": "LayoutView",
            "align_content": null,
            "align_items": null,
            "align_self": null,
            "border": null,
            "bottom": null,
            "display": null,
            "flex": null,
            "flex_flow": null,
            "grid_area": null,
            "grid_auto_columns": null,
            "grid_auto_flow": null,
            "grid_auto_rows": null,
            "grid_column": null,
            "grid_gap": null,
            "grid_row": null,
            "grid_template_areas": null,
            "grid_template_columns": null,
            "grid_template_rows": null,
            "height": null,
            "justify_content": null,
            "justify_items": null,
            "left": null,
            "margin": null,
            "max_height": null,
            "max_width": null,
            "min_height": null,
            "min_width": null,
            "object_fit": null,
            "object_position": null,
            "order": null,
            "overflow": null,
            "overflow_x": null,
            "overflow_y": null,
            "padding": null,
            "right": null,
            "top": null,
            "visibility": null,
            "width": null
          }
        },
        "5e12425e95b24136acba44fcfbdfd667": {
          "model_module": "@jupyter-widgets/base",
          "model_name": "LayoutModel",
          "model_module_version": "1.2.0",
          "state": {
            "_model_module": "@jupyter-widgets/base",
            "_model_module_version": "1.2.0",
            "_model_name": "LayoutModel",
            "_view_count": null,
            "_view_module": "@jupyter-widgets/base",
            "_view_module_version": "1.2.0",
            "_view_name": "LayoutView",
            "align_content": null,
            "align_items": null,
            "align_self": null,
            "border": null,
            "bottom": null,
            "display": null,
            "flex": null,
            "flex_flow": null,
            "grid_area": null,
            "grid_auto_columns": null,
            "grid_auto_flow": null,
            "grid_auto_rows": null,
            "grid_column": null,
            "grid_gap": null,
            "grid_row": null,
            "grid_template_areas": null,
            "grid_template_columns": null,
            "grid_template_rows": null,
            "height": null,
            "justify_content": null,
            "justify_items": null,
            "left": null,
            "margin": null,
            "max_height": null,
            "max_width": null,
            "min_height": null,
            "min_width": null,
            "object_fit": null,
            "object_position": null,
            "order": null,
            "overflow": null,
            "overflow_x": null,
            "overflow_y": null,
            "padding": null,
            "right": null,
            "top": null,
            "visibility": null,
            "width": null
          }
        },
        "2a70e8d51b414e398d691bf160ee94d6": {
          "model_module": "@jupyter-widgets/controls",
          "model_name": "DescriptionStyleModel",
          "model_module_version": "1.5.0",
          "state": {
            "_model_module": "@jupyter-widgets/controls",
            "_model_module_version": "1.5.0",
            "_model_name": "DescriptionStyleModel",
            "_view_count": null,
            "_view_module": "@jupyter-widgets/base",
            "_view_module_version": "1.2.0",
            "_view_name": "StyleView",
            "description_width": ""
          }
        },
        "31e003318d0249a98c6014fbdf18412c": {
          "model_module": "@jupyter-widgets/base",
          "model_name": "LayoutModel",
          "model_module_version": "1.2.0",
          "state": {
            "_model_module": "@jupyter-widgets/base",
            "_model_module_version": "1.2.0",
            "_model_name": "LayoutModel",
            "_view_count": null,
            "_view_module": "@jupyter-widgets/base",
            "_view_module_version": "1.2.0",
            "_view_name": "LayoutView",
            "align_content": null,
            "align_items": null,
            "align_self": null,
            "border": null,
            "bottom": null,
            "display": null,
            "flex": null,
            "flex_flow": null,
            "grid_area": null,
            "grid_auto_columns": null,
            "grid_auto_flow": null,
            "grid_auto_rows": null,
            "grid_column": null,
            "grid_gap": null,
            "grid_row": null,
            "grid_template_areas": null,
            "grid_template_columns": null,
            "grid_template_rows": null,
            "height": null,
            "justify_content": null,
            "justify_items": null,
            "left": null,
            "margin": null,
            "max_height": null,
            "max_width": null,
            "min_height": null,
            "min_width": null,
            "object_fit": null,
            "object_position": null,
            "order": null,
            "overflow": null,
            "overflow_x": null,
            "overflow_y": null,
            "padding": null,
            "right": null,
            "top": null,
            "visibility": null,
            "width": null
          }
        },
        "08764c06f96443b4bcfed9122642db4e": {
          "model_module": "@jupyter-widgets/controls",
          "model_name": "ProgressStyleModel",
          "model_module_version": "1.5.0",
          "state": {
            "_model_module": "@jupyter-widgets/controls",
            "_model_module_version": "1.5.0",
            "_model_name": "ProgressStyleModel",
            "_view_count": null,
            "_view_module": "@jupyter-widgets/base",
            "_view_module_version": "1.2.0",
            "_view_name": "StyleView",
            "bar_color": null,
            "description_width": ""
          }
        },
        "cc11ddf034a84f958ae0cd2a2eece4b2": {
          "model_module": "@jupyter-widgets/base",
          "model_name": "LayoutModel",
          "model_module_version": "1.2.0",
          "state": {
            "_model_module": "@jupyter-widgets/base",
            "_model_module_version": "1.2.0",
            "_model_name": "LayoutModel",
            "_view_count": null,
            "_view_module": "@jupyter-widgets/base",
            "_view_module_version": "1.2.0",
            "_view_name": "LayoutView",
            "align_content": null,
            "align_items": null,
            "align_self": null,
            "border": null,
            "bottom": null,
            "display": null,
            "flex": null,
            "flex_flow": null,
            "grid_area": null,
            "grid_auto_columns": null,
            "grid_auto_flow": null,
            "grid_auto_rows": null,
            "grid_column": null,
            "grid_gap": null,
            "grid_row": null,
            "grid_template_areas": null,
            "grid_template_columns": null,
            "grid_template_rows": null,
            "height": null,
            "justify_content": null,
            "justify_items": null,
            "left": null,
            "margin": null,
            "max_height": null,
            "max_width": null,
            "min_height": null,
            "min_width": null,
            "object_fit": null,
            "object_position": null,
            "order": null,
            "overflow": null,
            "overflow_x": null,
            "overflow_y": null,
            "padding": null,
            "right": null,
            "top": null,
            "visibility": null,
            "width": null
          }
        },
        "dce31f62addb447190374ab16a9dde76": {
          "model_module": "@jupyter-widgets/controls",
          "model_name": "DescriptionStyleModel",
          "model_module_version": "1.5.0",
          "state": {
            "_model_module": "@jupyter-widgets/controls",
            "_model_module_version": "1.5.0",
            "_model_name": "DescriptionStyleModel",
            "_view_count": null,
            "_view_module": "@jupyter-widgets/base",
            "_view_module_version": "1.2.0",
            "_view_name": "StyleView",
            "description_width": ""
          }
        }
      }
    }
  },
  "nbformat": 4,
  "nbformat_minor": 0
}