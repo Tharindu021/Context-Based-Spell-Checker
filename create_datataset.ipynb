{
  "nbformat": 4,
  "nbformat_minor": 0,
  "metadata": {
    "colab": {
      "provenance": [],
      "gpuType": "T4",
      "authorship_tag": "ABX9TyPjZKxLbiuOqIoJsGR3A+tC",
      "include_colab_link": true
    },
    "kernelspec": {
      "name": "python3",
      "display_name": "Python 3"
    },
    "language_info": {
      "name": "python"
    },
    "accelerator": "GPU"
  },
  "cells": [
    {
      "cell_type": "markdown",
      "metadata": {
        "id": "view-in-github",
        "colab_type": "text"
      },
      "source": [
        "<a href=\"https://colab.research.google.com/github/Tharindu021/Context-Based-Spell-Checker/blob/main/create_datataset.ipynb\" target=\"_parent\"><img src=\"https://colab.research.google.com/assets/colab-badge.svg\" alt=\"Open In Colab\"/></a>"
      ]
    },
    {
      "cell_type": "code",
      "source": [
        "import pandas as pd\n",
        "import random\n",
        "import concurrent.futures"
      ],
      "metadata": {
        "id": "L2Kb74x5LjhS"
      },
      "execution_count": null,
      "outputs": []
    },
    {
      "cell_type": "code",
      "source": [
        "from google.colab import drive\n",
        "drive.mount('/content/drive')\n",
        "\n",
        "df = pd.read_csv(\"/content/drive/MyDrive/Dataset/mispelld sentence and correct sentences/test_data.csv\")\n",
        "input_column = 'input'"
      ],
      "metadata": {
        "colab": {
          "base_uri": "https://localhost:8080/"
        },
        "id": "28alxeplhHxH",
        "outputId": "ce3e3136-00ae-4260-e5be-36798dec3eb6"
      },
      "execution_count": null,
      "outputs": [
        {
          "output_type": "stream",
          "name": "stdout",
          "text": [
            "Drive already mounted at /content/drive; to attempt to forcibly remount, call drive.mount(\"/content/drive\", force_remount=True).\n"
          ]
        }
      ]
    },
    {
      "cell_type": "code",
      "source": [
        "def misspell_word(word):\n",
        "    methods = ['swap', 'replace', 'remove', 'add']\n",
        "    method = random.choice(methods)\n",
        "\n",
        "    if method == 'swap' and len(word) > 1:\n",
        "        idx = random.randint(0, len(word) - 2)\n",
        "        word = word[:idx] + word[idx+1] + word[idx] + word[idx+2:]\n",
        "\n",
        "    elif method == 'replace':\n",
        "        idx = random.randint(0, len(word) - 1)\n",
        "        random_letter = chr(random.randint(97, 122))\n",
        "        word = word[:idx] + random_letter + word[idx+1:]\n",
        "\n",
        "    elif method == 'remove':\n",
        "        idx = random.randint(0, len(word) - 1)\n",
        "        word = word[:idx] + word[idx+1:]\n",
        "\n",
        "    elif method == 'add':\n",
        "        idx = random.randint(0, len(word))\n",
        "        random_letter = chr(random.randint(97, 122))\n",
        "        word = word[:idx] + random_letter + word[idx:]\n",
        "\n",
        "    return word\n",
        "\n"
      ],
      "metadata": {
        "id": "j1nZedFQ2B2p"
      },
      "execution_count": null,
      "outputs": []
    },
    {
      "cell_type": "code",
      "source": [
        "def add_misspelled_word(sentence):\n",
        "    words = sentence.split()\n",
        "    if not words:\n",
        "        return sentence\n",
        "\n",
        "    valid_words = [i for i, word in enumerate(words) if len(word) >= 3]\n",
        "    if valid_words:\n",
        "        idx = random.choice(valid_words)\n",
        "        words[idx] = misspell_word(words[idx])\n",
        "\n",
        "    return ' '.join(words)"
      ],
      "metadata": {
        "id": "3Y9mJPn72A_5"
      },
      "execution_count": null,
      "outputs": []
    },
    {
      "cell_type": "code",
      "source": [
        "def process_batch(batch):\n",
        "    return batch.apply(lambda x: add_misspelled_word(x) if isinstance(x, str) else x)\n",
        "\n",
        "def process_in_parallel(df, batch_size=1000):\n",
        "    batches = [df[input_column][i:i + batch_size] for i in range(0, len(df), batch_size)]\n",
        "\n",
        "    with concurrent.futures.ProcessPoolExecutor() as executor:\n",
        "        # Use map to apply the function to each batch in parallel\n",
        "        results = executor.map(process_batch, batches)\n",
        "\n",
        "    # Combine all the results back into a single dataframe\n",
        "    df['misspelled_sentences'] = pd.concat(results, ignore_index=True)\n",
        "    return df\n",
        "\n",
        "df['misspelled_sentences'] = df[input_column].apply(add_misspelled_word)\n",
        "\n",
        "# Process the entire dataset in parallel\n",
        "df = process_in_parallel(df)\n",
        "\n",
        "# Save the modified dataset to a new CSV file\n",
        "df.to_csv('/content/drive/MyDrive/Dataset/mispelld sentence and correct sentences/dataset_with_misspelled_words.csv', index=False)\n",
        "\n",
        "print(\"Dataset saved successfully.\")\n"
      ],
      "metadata": {
        "colab": {
          "base_uri": "https://localhost:8080/"
        },
        "id": "Nj_7VqFphWb1",
        "outputId": "9c172122-2507-4606-a99b-98c6dafcc281"
      },
      "execution_count": null,
      "outputs": [
        {
          "output_type": "stream",
          "name": "stdout",
          "text": [
            "Dataset saved successfully.\n"
          ]
        }
      ]
    }
  ]
}