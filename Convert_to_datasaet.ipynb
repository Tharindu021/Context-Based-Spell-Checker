{
  "nbformat": 4,
  "nbformat_minor": 0,
  "metadata": {
    "colab": {
      "provenance": [],
      "gpuType": "T4",
      "authorship_tag": "ABX9TyMA+lX98MfXTHiH7D7aBELw",
      "include_colab_link": true
    },
    "kernelspec": {
      "name": "python3",
      "display_name": "Python 3"
    },
    "language_info": {
      "name": "python"
    },
    "accelerator": "GPU"
  },
  "cells": [
    {
      "cell_type": "markdown",
      "metadata": {
        "id": "view-in-github",
        "colab_type": "text"
      },
      "source": [
        "<a href=\"https://colab.research.google.com/github/Tharindu021/Context-Based-Spell-Checker/blob/main/Convert_to_datasaet.ipynb\" target=\"_parent\"><img src=\"https://colab.research.google.com/assets/colab-badge.svg\" alt=\"Open In Colab\"/></a>"
      ]
    },
    {
      "cell_type": "code",
      "source": [
        "import csv\n",
        "from google.colab import drive\n",
        "import pandas as pd"
      ],
      "metadata": {
        "id": "miZgl7K1w3r4"
      },
      "execution_count": null,
      "outputs": []
    },
    {
      "cell_type": "markdown",
      "source": [
        "### **Mount the drive and read the text file**"
      ],
      "metadata": {
        "id": "vOBSe_QY0Sob"
      }
    },
    {
      "cell_type": "code",
      "source": [
        "drive.mount('/content/drive')"
      ],
      "metadata": {
        "colab": {
          "base_uri": "https://localhost:8080/"
        },
        "id": "10qp4lbvznW3",
        "outputId": "2a43b015-e537-4681-b810-343bfc6008e6"
      },
      "execution_count": null,
      "outputs": [
        {
          "output_type": "stream",
          "name": "stdout",
          "text": [
            "Drive already mounted at /content/drive; to attempt to forcibly remount, call drive.mount(\"/content/drive\", force_remount=True).\n"
          ]
        }
      ]
    },
    {
      "cell_type": "markdown",
      "source": [
        "set the file path and specify the CSV file path.\n",
        "Get the word before the : symbol as the correct word, and the words after it as the incorrect words."
      ],
      "metadata": {
        "id": "zcktQx73ufq9"
      }
    },
    {
      "cell_type": "code",
      "source": [
        "file_path = \"/content/drive/MyDrive/Dataset/Misspelt_to_Correct/wikipedia.txt\"\n",
        "csv_file = \"/content/drive/MyDrive/Dataset/Misspelt_to_Correct/word5.csv\"\n",
        "\n",
        "# Read the file and prepare the dataset\n",
        "data = {}\n",
        "with open(file_path, 'r') as f:\n",
        "    lines = f.read().splitlines()\n",
        "    for line in lines:\n",
        "        if ':' in line:\n",
        "            correct_word, incorrect_words = line.split(':', 1)\n",
        "            data[correct_word.strip()] = incorrect_words.strip()"
      ],
      "metadata": {
        "id": "b2h3QluMufNQ"
      },
      "execution_count": null,
      "outputs": []
    },
    {
      "cell_type": "markdown",
      "source": [
        "Add to the correct_word_incorrect_word array"
      ],
      "metadata": {
        "id": "Bp3UO_a-0H0v"
      }
    },
    {
      "cell_type": "code",
      "source": [
        "# Convert the dictionary into a list of correct and incorrect pairs\n",
        "correct_word_incorrect_word = []\n",
        "for correct_word, incorrect_words in data.items():\n",
        "    incorrect_words_list = incorrect_words.split()\n",
        "    for incorrect_word in incorrect_words_list:\n",
        "        correct_word_incorrect_word.append([incorrect_word, correct_word])"
      ],
      "metadata": {
        "id": "1P5QVL5Kzy6k"
      },
      "execution_count": null,
      "outputs": []
    },
    {
      "cell_type": "markdown",
      "source": [
        "save the csv file"
      ],
      "metadata": {
        "id": "weoFMDZcz736"
      }
    },
    {
      "cell_type": "code",
      "source": [
        "# Create a DataFrame\n",
        "df = pd.DataFrame(correct_word_incorrect_word, columns=['Incorrect Word','Correct Word'])\n",
        "\n",
        "# Save to CSV file\n",
        "df.to_csv(csv_file, index=False)\n",
        "\n",
        "print(f\"Data written to {csv_file}\")"
      ],
      "metadata": {
        "colab": {
          "base_uri": "https://localhost:8080/"
        },
        "id": "p_8mPNwRz3hO",
        "outputId": "8f3deed6-ea83-4fab-e2c2-49c6d98f5a60"
      },
      "execution_count": null,
      "outputs": [
        {
          "output_type": "stream",
          "name": "stdout",
          "text": [
            "Data written to /content/drive/MyDrive/Dataset/Misspelt_to_Correct/word5.csv\n"
          ]
        }
      ]
    }
  ]
}